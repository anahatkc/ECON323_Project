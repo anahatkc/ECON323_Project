{
 "cells": [
  {
   "cell_type": "markdown",
   "metadata": {},
   "source": [
    "### FINAL PROJECT ECON 323\n",
    "\n",
    "\n",
    "This is the jupyter notebook for the final project"
   ]
  }
 ],
 "metadata": {
  "kernelspec": {
   "display_name": "Python 3 (ipykernel)",
   "language": "python",
   "name": "python3"
  },
  "language_info": {
   "codemirror_mode": {
    "name": "ipython",
    "version": 3
   },
   "file_extension": ".py",
   "mimetype": "text/x-python",
   "name": "python",
   "nbconvert_exporter": "python",
   "pygments_lexer": "ipython3",
   "version": "3.9.12"
  },
  "vscode": {
   "interpreter": {
    "hash": "177a6c59d031314609db470dae3610e870469540e8a6cfc59cf9ab7a5a6e61bd"
   }
  }
 },
 "nbformat": 4,
 "nbformat_minor": 4
}
