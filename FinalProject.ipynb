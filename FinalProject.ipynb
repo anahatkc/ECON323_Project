{
 "cells": [
  {
   "cell_type": "markdown",
   "metadata": {},
   "source": [
    "### **ECON 323 FINAL PROJECT**\n",
    "\n",
    "### **PARLIAMENTARY PARTICIPATION AND ELECTORAL SUCCESS**"
   ]
  },
  {
   "cell_type": "markdown",
   "metadata": {},
   "source": [
    "##### INTRODUCTION\n",
    "\n",
    "In this project, we aim to further contribute to my ECON 490 paper. The project adds to the paper by creating interactive visualizations that explain the variables and by carrying out classification tasks through machine learning.  \n",
    "\n",
    "ADD EXTRA INFORMATION ABOUT THE SPECIFICS OF THE MACHINE LEARNING\n",
    "\n",
    "The paper explores the impact of parliamentary participation on electoral success particularly in the Canadian House of Commons. In this case, parliamentary participation is measured by participation in question period and statements made in the House of Commons and the private member bills introduced by the Member of Parliament. Electoral success is measured by whether or not the Member of Parliament was reelected in the next federal elections. "
   ]
  },
  {
   "cell_type": "markdown",
   "metadata": {},
   "source": [
    "##### LOADING PACKAGES\n",
    "\n",
    "We start by loading all the necessary packages:"
   ]
  },
  {
   "cell_type": "code",
   "execution_count": 5,
   "metadata": {},
   "outputs": [],
   "source": [
    "import pandas as pd\n",
    "import numpy as np\n",
    "import shapefile as shp\n",
    "import matplotlib.pyplot as plt\n",
    "%matplotlib inline\n",
    "import seaborn as sns\n",
    "import geopandas as gpd\n",
    "import matplotlib.colors as colors\n",
    "import folium \n",
    "from folium import plugins\n",
    "import seaborn as sns\n",
    "import sklearn\n",
    "import sklearn.model_selection\n",
    "import sklearn.ensemble\n",
    "from sklearn import linear_model\n",
    "from sklearn.linear_model import LogisticRegression\n",
    "import sklearn.metrics as metrics\n",
    "from sklearn.metrics import mean_squared_error\n",
    "from sklearn.model_selection import train_test_split\n",
    "import statsmodels.api as sm\n",
    "import statsmodels.formula.api as smf\n",
    "from patsy import dmatrix\n",
    "from sklearn.metrics import classification_report\n",
    "from sklearn.metrics import accuracy_score\n",
    "from sklearn.metrics import ConfusionMatrixDisplay"
   ]
  },
  {
   "cell_type": "markdown",
   "metadata": {},
   "source": [
    "##### INTRODUCING THE DATA \n",
    "\n",
    "##### *Reading the Data*\n",
    "\n",
    "For my 490 paper, I worked with two csv files which include data from several sources:\n",
    "\n",
    "- Elections Canada for reelection and riding information\n",
    "- OurCommons website for information on Private Member's Bills, statements made and Cabinet ministers\n",
    "- SQL Database from the openparliament.com website for gender, party and politician name\n",
    "- Conservative.ca website for information on Shadow Cabinet\n",
    "- Age and years in House of Commons from Parl.ca website \n",
    "\n",
    "The overall timeframe for this data is from the 2015 federal elections to the 2021 federal elections i.e. the information considers all parliamentary activity from the 42nd and 43rd Parliament."
   ]
  },
  {
   "cell_type": "code",
   "execution_count": 4,
   "metadata": {},
   "outputs": [],
   "source": [
    "# reading in csv data \n",
    "results15 = pd.read_csv(\"DATA/2015Results.csv\")\n",
    "results19 = pd.read_csv(\"DATA/2019Results.csv\")\n",
    "\n",
    "# renaming columns so that dataframes can be concatenated correctly \n",
    "results15 = results15.rename(columns = {\"RidingID\":\"Riding ID\", \"ranfor43\":\"RanForNE\", \"reelected43\":\"Reelected\", \"DOB1\":\"DOB\", \"YearsServedAtTimeOfElection\":\"YearsInHOC\"})\n",
    "results19 = results19.rename(columns = {\"Election\":\"Parliament\", \"ranfor44\":\"RanForNE\", \"reelected44\":\"Reelected\", \"StatementsByMembers\":\"Statements\", \"YearsServedAtElection\":\"YearsInHOC\"})\n",
    "\n",
    "# concatenating dataframes\n",
    "Results_Full = pd.concat([results15, results19], ignore_index=True)"
   ]
  },
  {
   "cell_type": "markdown",
   "metadata": {},
   "source": [
    "##### *Creating Dummy Variables*\n",
    "\n",
    "Next, we create dummy variables for the following categorical variables and add them to the original dataframe. Some further clean-up takes place for clarity."
   ]
  },
  {
   "cell_type": "code",
   "execution_count": 35,
   "metadata": {},
   "outputs": [],
   "source": [
    "# creating a dataframe with columns that need to be converted to dummy variables\n",
    "Results_Dummy = pd.DataFrame(data=Results_Full, columns=['Gender', 'RanForNE', 'Reelected', 'Party'])\n",
    "\n",
    "# creating dummy variables for each column of the above dataset\n",
    "Dummies = pd.get_dummies(Results_Dummy)\n",
    "\n",
    "# adding newly created dummy variables to the original dataframe\n",
    "Results = pd.concat([Results_Full, Dummies], axis = 1)\n",
    "\n",
    "# removing unnecessary columns\n",
    "Results = Results.drop(columns=['Gender', 'RanForNE', 'Reelected', 'DOB', 'Gender_M', 'RanForNE_No', 'Reelected_.', 'Reelected_No', 'Party_Bloc Québécois', 'Party_Green Party of Canada', 'Party_Independent'])\n",
    "\n",
    "# renaming columns for better understanding\n",
    "Results = Results.rename(columns = {\"Gender_F\":\"Gender\", \"RanForNE_Yes\":\"RanForNE\", \"Reelected_Yes\":\"Reelected\", \"Party_Conservative Party of Canada\":\"ConservativeMem\", \"Party_Liberal Party of Canada\":\"LiberalMem\", \"Party_New Democratic Party\":\"NDPMem\"})"
   ]
  },
  {
   "cell_type": "markdown",
   "metadata": {},
   "source": [
    "##### VISUALIZING THE ELECTORAL RESULTS \n",
    "\n",
    "Now, we visualise the electoral results for the 2019 and 2021 federal elections on an interactive map. The map is split into different ridings with each riding provided information on whether or not the MP ran for re-election and the election results if they did run for reelection.\n",
    "\n",
    "We do this using a shapefile from the federal electoral discticts map from Government of Canada."
   ]
  },
  {
   "cell_type": "code",
   "execution_count": 36,
   "metadata": {},
   "outputs": [],
   "source": [
    "# defining a function that gives an outcome based on values for dummy variables\n",
    "def f(row):\n",
    "    if row['RanForNE'] == row['Reelected'] == 1:\n",
    "        val = 'Ran for Re-election and Won'\n",
    "    elif row['RanForNE'] == 0:\n",
    "        val = 'Did Not Run for Re-election'\n",
    "    else:\n",
    "        val = 'Ran for Re-election and Lost'\n",
    "    return val\n",
    "\n",
    "# creating a dataframe with only necessary columns\n",
    "#PlottingDF = pd.DataFrame(data=Results, columns=['Name', 'Parliament', 'Riding ID', 'RanForNE', 'Reelected'])\n",
    "\n",
    "# applying the function to the newly created dataframe\n",
    "Results['Outcome'] = Results.apply(f, axis=1)\n",
    "\n",
    "# splitting the dataframe - corresponding to each election\n",
    "# results for 2019 election\n",
    "Plotting19 = Results.loc[Results['Parliament'] == 42]\n",
    "# results for 2021 election\n",
    "Plotting21 = Results.loc[Results['Parliament'] == 43] "
   ]
  },
  {
   "cell_type": "code",
   "execution_count": 37,
   "metadata": {},
   "outputs": [
    {
     "ename": "DriverError",
     "evalue": "FED_CA_2021_EN/FED_CA_2021_EN.shp: No such file or directory",
     "output_type": "error",
     "traceback": [
      "\u001b[0;31m---------------------------------------------------------------------------\u001b[0m",
      "\u001b[0;31mCPLE_OpenFailedError\u001b[0m                      Traceback (most recent call last)",
      "File \u001b[0;32mfiona/_shim.pyx:83\u001b[0m, in \u001b[0;36mfiona._shim.gdal_open_vector\u001b[0;34m()\u001b[0m\n",
      "File \u001b[0;32mfiona/_err.pyx:291\u001b[0m, in \u001b[0;36mfiona._err.exc_wrap_pointer\u001b[0;34m()\u001b[0m\n",
      "\u001b[0;31mCPLE_OpenFailedError\u001b[0m: FED_CA_2021_EN/FED_CA_2021_EN.shp: No such file or directory",
      "\nDuring handling of the above exception, another exception occurred:\n",
      "\u001b[0;31mDriverError\u001b[0m                               Traceback (most recent call last)",
      "\u001b[1;32m/Users/anahat/Desktop/ECON323_Project/ECON323_Project/FinalProject.ipynb Cell 11\u001b[0m in \u001b[0;36m<cell line: 2>\u001b[0;34m()\u001b[0m\n\u001b[1;32m      <a href='vscode-notebook-cell:/Users/anahat/Desktop/ECON323_Project/ECON323_Project/FinalProject.ipynb#X13sZmlsZQ%3D%3D?line=0'>1</a>\u001b[0m \u001b[39m# loading in the shapefile\u001b[39;00m\n\u001b[0;32m----> <a href='vscode-notebook-cell:/Users/anahat/Desktop/ECON323_Project/ECON323_Project/FinalProject.ipynb#X13sZmlsZQ%3D%3D?line=1'>2</a>\u001b[0m Ridings \u001b[39m=\u001b[39m gpd\u001b[39m.\u001b[39;49mread_file(\u001b[39m'\u001b[39;49m\u001b[39mFED_CA_2021_EN/FED_CA_2021_EN.shp\u001b[39;49m\u001b[39m'\u001b[39;49m)\n\u001b[1;32m      <a href='vscode-notebook-cell:/Users/anahat/Desktop/ECON323_Project/ECON323_Project/FinalProject.ipynb#X13sZmlsZQ%3D%3D?line=3'>4</a>\u001b[0m \u001b[39m# renaming the column so that the dataframes can be merged based on Riding ID\u001b[39;00m\n\u001b[1;32m      <a href='vscode-notebook-cell:/Users/anahat/Desktop/ECON323_Project/ECON323_Project/FinalProject.ipynb#X13sZmlsZQ%3D%3D?line=4'>5</a>\u001b[0m Ridings \u001b[39m=\u001b[39m Ridings\u001b[39m.\u001b[39mrename(columns \u001b[39m=\u001b[39m {\u001b[39m\"\u001b[39m\u001b[39mFED_NUM\u001b[39m\u001b[39m\"\u001b[39m:\u001b[39m\"\u001b[39m\u001b[39mRiding ID\u001b[39m\u001b[39m\"\u001b[39m, \u001b[39m\"\u001b[39m\u001b[39mED_NAMEE\u001b[39m\u001b[39m\"\u001b[39m:\u001b[39m\"\u001b[39m\u001b[39mElectoral District\u001b[39m\u001b[39m\"\u001b[39m})\n",
      "File \u001b[0;32m~/opt/anaconda3/lib/python3.9/site-packages/geopandas/io/file.py:259\u001b[0m, in \u001b[0;36m_read_file\u001b[0;34m(filename, bbox, mask, rows, engine, **kwargs)\u001b[0m\n\u001b[1;32m    256\u001b[0m     path_or_bytes \u001b[39m=\u001b[39m filename\n\u001b[1;32m    258\u001b[0m \u001b[39mif\u001b[39;00m engine \u001b[39m==\u001b[39m \u001b[39m\"\u001b[39m\u001b[39mfiona\u001b[39m\u001b[39m\"\u001b[39m:\n\u001b[0;32m--> 259\u001b[0m     \u001b[39mreturn\u001b[39;00m _read_file_fiona(\n\u001b[1;32m    260\u001b[0m         path_or_bytes, from_bytes, bbox\u001b[39m=\u001b[39;49mbbox, mask\u001b[39m=\u001b[39;49mmask, rows\u001b[39m=\u001b[39;49mrows, \u001b[39m*\u001b[39;49m\u001b[39m*\u001b[39;49mkwargs\n\u001b[1;32m    261\u001b[0m     )\n\u001b[1;32m    262\u001b[0m \u001b[39melif\u001b[39;00m engine \u001b[39m==\u001b[39m \u001b[39m\"\u001b[39m\u001b[39mpyogrio\u001b[39m\u001b[39m\"\u001b[39m:\n\u001b[1;32m    263\u001b[0m     \u001b[39mreturn\u001b[39;00m _read_file_pyogrio(\n\u001b[1;32m    264\u001b[0m         path_or_bytes, bbox\u001b[39m=\u001b[39mbbox, mask\u001b[39m=\u001b[39mmask, rows\u001b[39m=\u001b[39mrows, \u001b[39m*\u001b[39m\u001b[39m*\u001b[39mkwargs\n\u001b[1;32m    265\u001b[0m     )\n",
      "File \u001b[0;32m~/opt/anaconda3/lib/python3.9/site-packages/geopandas/io/file.py:303\u001b[0m, in \u001b[0;36m_read_file_fiona\u001b[0;34m(path_or_bytes, from_bytes, bbox, mask, rows, where, **kwargs)\u001b[0m\n\u001b[1;32m    300\u001b[0m     reader \u001b[39m=\u001b[39m fiona\u001b[39m.\u001b[39mopen\n\u001b[1;32m    302\u001b[0m \u001b[39mwith\u001b[39;00m fiona_env():\n\u001b[0;32m--> 303\u001b[0m     \u001b[39mwith\u001b[39;00m reader(path_or_bytes, \u001b[39m*\u001b[39;49m\u001b[39m*\u001b[39;49mkwargs) \u001b[39mas\u001b[39;00m features:\n\u001b[1;32m    304\u001b[0m         crs \u001b[39m=\u001b[39m features\u001b[39m.\u001b[39mcrs_wkt\n\u001b[1;32m    305\u001b[0m         \u001b[39m# attempt to get EPSG code\u001b[39;00m\n",
      "File \u001b[0;32m~/opt/anaconda3/lib/python3.9/site-packages/fiona/env.py:408\u001b[0m, in \u001b[0;36mensure_env_with_credentials.<locals>.wrapper\u001b[0;34m(*args, **kwargs)\u001b[0m\n\u001b[1;32m    405\u001b[0m \u001b[39m@wraps\u001b[39m(f)\n\u001b[1;32m    406\u001b[0m \u001b[39mdef\u001b[39;00m \u001b[39mwrapper\u001b[39m(\u001b[39m*\u001b[39margs, \u001b[39m*\u001b[39m\u001b[39m*\u001b[39mkwargs):\n\u001b[1;32m    407\u001b[0m     \u001b[39mif\u001b[39;00m local\u001b[39m.\u001b[39m_env:\n\u001b[0;32m--> 408\u001b[0m         \u001b[39mreturn\u001b[39;00m f(\u001b[39m*\u001b[39;49margs, \u001b[39m*\u001b[39;49m\u001b[39m*\u001b[39;49mkwargs)\n\u001b[1;32m    409\u001b[0m     \u001b[39melse\u001b[39;00m:\n\u001b[1;32m    410\u001b[0m         \u001b[39mif\u001b[39;00m \u001b[39misinstance\u001b[39m(args[\u001b[39m0\u001b[39m], \u001b[39mstr\u001b[39m):\n",
      "File \u001b[0;32m~/opt/anaconda3/lib/python3.9/site-packages/fiona/__init__.py:264\u001b[0m, in \u001b[0;36mopen\u001b[0;34m(fp, mode, driver, schema, crs, encoding, layer, vfs, enabled_drivers, crs_wkt, **kwargs)\u001b[0m\n\u001b[1;32m    261\u001b[0m     path \u001b[39m=\u001b[39m parse_path(fp)\n\u001b[1;32m    263\u001b[0m \u001b[39mif\u001b[39;00m mode \u001b[39min\u001b[39;00m (\u001b[39m'\u001b[39m\u001b[39ma\u001b[39m\u001b[39m'\u001b[39m, \u001b[39m'\u001b[39m\u001b[39mr\u001b[39m\u001b[39m'\u001b[39m):\n\u001b[0;32m--> 264\u001b[0m     c \u001b[39m=\u001b[39m Collection(path, mode, driver\u001b[39m=\u001b[39;49mdriver, encoding\u001b[39m=\u001b[39;49mencoding,\n\u001b[1;32m    265\u001b[0m                    layer\u001b[39m=\u001b[39;49mlayer, enabled_drivers\u001b[39m=\u001b[39;49menabled_drivers, \u001b[39m*\u001b[39;49m\u001b[39m*\u001b[39;49mkwargs)\n\u001b[1;32m    266\u001b[0m \u001b[39melif\u001b[39;00m mode \u001b[39m==\u001b[39m \u001b[39m'\u001b[39m\u001b[39mw\u001b[39m\u001b[39m'\u001b[39m:\n\u001b[1;32m    267\u001b[0m     \u001b[39mif\u001b[39;00m schema:\n\u001b[1;32m    268\u001b[0m         \u001b[39m# Make an ordered dict of schema properties.\u001b[39;00m\n",
      "File \u001b[0;32m~/opt/anaconda3/lib/python3.9/site-packages/fiona/collection.py:162\u001b[0m, in \u001b[0;36mCollection.__init__\u001b[0;34m(self, path, mode, driver, schema, crs, encoding, layer, vsi, archive, enabled_drivers, crs_wkt, ignore_fields, ignore_geometry, **kwargs)\u001b[0m\n\u001b[1;32m    160\u001b[0m \u001b[39mif\u001b[39;00m \u001b[39mself\u001b[39m\u001b[39m.\u001b[39mmode \u001b[39m==\u001b[39m \u001b[39m'\u001b[39m\u001b[39mr\u001b[39m\u001b[39m'\u001b[39m:\n\u001b[1;32m    161\u001b[0m     \u001b[39mself\u001b[39m\u001b[39m.\u001b[39msession \u001b[39m=\u001b[39m Session()\n\u001b[0;32m--> 162\u001b[0m     \u001b[39mself\u001b[39;49m\u001b[39m.\u001b[39;49msession\u001b[39m.\u001b[39;49mstart(\u001b[39mself\u001b[39;49m, \u001b[39m*\u001b[39;49m\u001b[39m*\u001b[39;49mkwargs)\n\u001b[1;32m    163\u001b[0m \u001b[39melif\u001b[39;00m \u001b[39mself\u001b[39m\u001b[39m.\u001b[39mmode \u001b[39min\u001b[39;00m (\u001b[39m'\u001b[39m\u001b[39ma\u001b[39m\u001b[39m'\u001b[39m, \u001b[39m'\u001b[39m\u001b[39mw\u001b[39m\u001b[39m'\u001b[39m):\n\u001b[1;32m    164\u001b[0m     \u001b[39mself\u001b[39m\u001b[39m.\u001b[39msession \u001b[39m=\u001b[39m WritingSession()\n",
      "File \u001b[0;32mfiona/ogrext.pyx:540\u001b[0m, in \u001b[0;36mfiona.ogrext.Session.start\u001b[0;34m()\u001b[0m\n",
      "File \u001b[0;32mfiona/_shim.pyx:90\u001b[0m, in \u001b[0;36mfiona._shim.gdal_open_vector\u001b[0;34m()\u001b[0m\n",
      "\u001b[0;31mDriverError\u001b[0m: FED_CA_2021_EN/FED_CA_2021_EN.shp: No such file or directory"
     ]
    }
   ],
   "source": [
    "# loading in the shapefile\n",
    "Ridings = gpd.read_file('FED_CA_2021_EN/FED_CA_2021_EN.shp')\n",
    "\n",
    "# renaming the column so that the dataframes can be merged based on Riding ID\n",
    "Ridings = Ridings.rename(columns = {\"FED_NUM\":\"Riding ID\", \"ED_NAMEE\":\"Electoral District\"})\n",
    "\n",
    "# merging so that we have an outcome for each electoral riding\n",
    "map2019 = pd.merge(Ridings, Plotting19, on = 'Riding ID')\n",
    "map2021 = pd.merge(Ridings, Plotting21, on = 'Riding ID')"
   ]
  },
  {
   "cell_type": "code",
   "execution_count": null,
   "metadata": {},
   "outputs": [],
   "source": [
    "# creating map for 2019 federal election\n",
    "map2019.explore(\n",
    "     column=\"Outcome\",\n",
    "     tooltip=\"Outcome\",\n",
    "     popup = ['Name', 'Electoral District', 'Outcome'],\n",
    "     cmap=\"Paired\",\n",
    "     style_kwds=dict(color=\"black\") \n",
    "    )"
   ]
  },
  {
   "cell_type": "code",
   "execution_count": null,
   "metadata": {},
   "outputs": [],
   "source": [
    "# creating map for 2021 federal election\n",
    "map2021.explore(\n",
    "     column=\"Outcome\",\n",
    "     tooltip=\"Outcome\",\n",
    "     popup = ['Name', 'Electoral District', 'Outcome'],\n",
    "     cmap=\"Paired\",\n",
    "     style_kwds=dict(color=\"black\") \n",
    "    )"
   ]
  },
  {
   "cell_type": "markdown",
   "metadata": {},
   "source": [
    "##### PREDICTION BY LOGISTIC REGRESSION MODEL IN MACHINE LEARNING"
   ]
  },
  {
   "cell_type": "markdown",
   "metadata": {},
   "source": [
    "Since the dependent variable in our model is a binary variable. So using Logistic Regression Model to train and test our dataset for classification is an appropriate choice. We would test which regressors in the dataset would contribute to the accuracy of 3 different logistic regression model."
   ]
  },
  {
   "cell_type": "code",
   "execution_count": 31,
   "metadata": {},
   "outputs": [
    {
     "data": {
      "image/png": "[encoded data removed]",
      "text/plain": [
       "<Figure size 1152x432 with 2 Axes>"
      ]
     },
     "metadata": {},
     "output_type": "display_data"
    }
   ],
   "source": [
    "sns.set(style=\"darkgrid\")\n",
    "fig, ax = plt.subplots(1,2, figsize = (16,6))\n",
    "sns.countplot(x=\"Outcome\", hue = 'Backbencher', ax=ax[0], data=Results)\n",
    "sns.countplot(x=\"Outcome\", hue = 'Gender', ax=ax[1], data=Results)\n",
    "\n",
    "plt.tight_layout()"
   ]
  },
  {
   "cell_type": "code",
   "execution_count": 41,
   "metadata": {},
   "outputs": [
    {
     "data": {
      "image/png": "[encoded data removed]",
      "text/plain": [
       "<Figure size 1152x432 with 1 Axes>"
      ]
     },
     "metadata": {},
     "output_type": "display_data"
    }
   ],
   "source": [
    "fig, ax = plt.subplots(figsize = (16,6))\n",
    "sns.countplot(x=\"Outcome\", hue = 'Party', data=Results)\n",
    "plt.tight_layout()"
   ]
  },
  {
   "cell_type": "markdown",
   "metadata": {},
   "source": [
    "##### Data Exploration and Preparation"
   ]
  },
  {
   "cell_type": "code",
   "execution_count": null,
   "metadata": {},
   "outputs": [],
   "source": [
    "QuestionPeriod_hist = Results.hist(column = [\"QuestionPeriod\"], figsize = (6,4),legend = True, bins = 100, grid = False)\n",
    "Results['QuestionPeriod'].max()"
   ]
  },
  {
   "cell_type": "markdown",
   "metadata": {},
   "source": [
    "As we could see from the histogram above,the distribution is left-skewed. And the maximum Question asked per period is $3208$, which is the number of question answered by Justin Trudeau. We decide to delete this maximum column and convert add a column for Log Questions. Therefore, we would have a close to normal data for regression analysis.  \n",
    "// Editing needed. Question asked or Question answered?"
   ]
  },
  {
   "cell_type": "markdown",
   "metadata": {},
   "source": [
    "##### Dropping the row contains the outlier"
   ]
  },
  {
   "cell_type": "code",
   "execution_count": null,
   "metadata": {},
   "outputs": [],
   "source": [
    "# creating a log of the QuestionPeriod variable\n",
    "Results['QuestionsLog'] = np.log10(Results['QuestionPeriod'])\n",
    "# Drop the rows that the Log Quesitions has negative values. \n",
    "Results = Results.loc[Results['QuestionPeriod'] >= 1]\n",
    "# Find the index of Justin Trudeau and confirm the index\n",
    "Results['QuestionPeriod'].idxmax()\n",
    "Results.loc[80]\n",
    "# Drop the row of Justin Trudeau's data\n",
    "Results = Results.drop([80])\n",
    "# Reset the index\n",
    "Results = Results.reset_index()"
   ]
  },
  {
   "cell_type": "markdown",
   "metadata": {},
   "source": [
    "##### LogQuestion Plot"
   ]
  },
  {
   "cell_type": "code",
   "execution_count": null,
   "metadata": {},
   "outputs": [],
   "source": [
    "LogQuestionPeriod_hist = Results.hist(column = [\"QuestionsLog\"], figsize = (6,4),legend = True, bins = 100, grid = False)"
   ]
  },
  {
   "cell_type": "markdown",
   "metadata": {},
   "source": [
    "##### Checking for Missing Values in the Dataframe"
   ]
  },
  {
   "cell_type": "code",
   "execution_count": null,
   "metadata": {},
   "outputs": [],
   "source": [
    "# checking for NaN values in the dataframe\n",
    "Results.isnull().sum()\n",
    "Results.AgeOnElectionDay.isnull().sum()\n",
    "Results.AgeOnElectionDay.mean()"
   ]
  },
  {
   "cell_type": "markdown",
   "metadata": {},
   "source": [
    "##### Impute the Missing Value with Column Average"
   ]
  },
  {
   "cell_type": "code",
   "execution_count": null,
   "metadata": {},
   "outputs": [],
   "source": [
    "# impute the missing AgeOnElectionDay values with mean\n",
    "Results['AgeOnElectionDay'].fillna((Results['AgeOnElectionDay'].mean()), inplace=True)\n",
    "# check the dataframe for missing value again\n",
    "Results.AgeOnElectionDay.isnull().sum()"
   ]
  },
  {
   "cell_type": "markdown",
   "metadata": {},
   "source": [
    "#### Trainning Set and Testing Set\n",
    "\n",
    "Randomly Select 80% of data among 2015 and 2019 data set as Trainning Set, 20% as Testing Set. /\n",
    "Due to the nature of the original data, 2015's dataset was collected for a 4-year period and 2019's dataset only collected for a 2-year period. Therefore, the mean averages for 2 datasets in numerical explanatary variables have around twice the difference. Therefore, randomly select in the combined dataset would be a reasonable choice in the training and testing model.\n",
    "\n"
   ]
  },
  {
   "cell_type": "code",
   "execution_count": null,
   "metadata": {},
   "outputs": [],
   "source": [
    "Randomly Select 80% of data among 2015 and 2019 data set as Trainning Set, 20% as Testing Set.\n",
    "train= Results.sample(frac = 0.8, random_state = 123)\n",
    "test= Results.drop(train.index)\n",
    "# Check if the sample size match after splitting\n",
    "print(train.shape[0] + test.shape[0] == Results.shape[0])"
   ]
  },
  {
   "cell_type": "code",
   "execution_count": null,
   "metadata": {},
   "outputs": [],
   "source": [
    "#X_train, X_test, y_train, y_test = train_test_split(train.drop('Reelected',axis=1), \n",
    "                                                    #train['Reelected'], test_size=0.20, \n",
    "                                                    #random_state=123)"
   ]
  },
  {
   "cell_type": "markdown",
   "metadata": {},
   "source": [
    "##### Model 1\n",
    "Regressors: Question Asked (Log), Private Number Bills Proposed,  Statements Made.\n",
    "- This regression has the following variables - log Question Period participation (calculated as the number of times an MP spoke in the Question Period), private member bills sponsored by the MP and the number of statements made in the House of Commons. "
   ]
  },
  {
   "cell_type": "code",
   "execution_count": null,
   "metadata": {},
   "outputs": [],
   "source": [
    "# Prep Model 1 df\n",
    "# use QuestionPeriod or QuestionLog\n",
    "train_model_1 = train[['QuestionPeriod','PvtMemBills','Statements','Reelected']]\n",
    "train_model_1\n",
    "test_model_1 = test[['QuestionPeriod','PvtMemBills','Statements','Reelected']]\n",
    "test_model_1"
   ]
  },
  {
   "cell_type": "code",
   "execution_count": null,
   "metadata": {},
   "outputs": [],
   "source": [
    "X_train_model_1, X_test_model_1, y_train_model_1, y_test_model_1 = train_test_split(train_model_1.drop('Reelected',axis=1), \n",
    "                                                    train_model_1['Reelected'], test_size=0.20, \n",
    "                                                    random_state=123)"
   ]
  },
  {
   "cell_type": "code",
   "execution_count": null,
   "metadata": {},
   "outputs": [],
   "source": [
    "logmodel_1 = LogisticRegression()\n",
    "logmodel_1.fit(X_train_model_1,y_train_model_1)\n",
    "predictions_model_1 = logmodel_1.predict(X_test_model_1)\n",
    "print(classification_report(y_test_model_1,predictions_model_1))"
   ]
  },
  {
   "cell_type": "code",
   "execution_count": null,
   "metadata": {},
   "outputs": [],
   "source": [
    "# above table already has the accuracy score, 0.70\n",
    "score_model_1 = accuracy_score(y_test_model_1,predictions_model_1)\n",
    "score_model_1"
   ]
  },
  {
   "cell_type": "code",
   "execution_count": null,
   "metadata": {},
   "outputs": [],
   "source": [
    "ConfusionMatrixDisplay.from_predictions(y_test_model_1, predictions_model_1)"
   ]
  },
  {
   "cell_type": "markdown",
   "metadata": {},
   "source": [
    "##### Model 2\n",
    "Regressors: Question Asked (Log), Private Number Bills Proposed,  Statements Made, Gender, Age.\n",
    "- Variables related to personal characterstics are added to the previous regression. These include gender of the MP and their age at the time of the election. "
   ]
  },
  {
   "cell_type": "code",
   "execution_count": null,
   "metadata": {},
   "outputs": [],
   "source": [
    "# Prep Model 2 df\n",
    "# use QuestionPeriod or QuestionLog\n",
    "train_model_2 = train[['QuestionPeriod','PvtMemBills','Statements','Reelected','AgeOnElectionDay','Gender']]\n",
    "train_model_2\n",
    "test_model_2 = test[['QuestionPeriod','PvtMemBills','Statements','Reelected','AgeOnElectionDay','Gender']]\n",
    "test_model_2"
   ]
  },
  {
   "cell_type": "code",
   "execution_count": null,
   "metadata": {},
   "outputs": [],
   "source": [
    "X_train_model_2, X_test_model_2, y_train_model_2, y_test_model_2 = train_test_split(train_model_2.drop('Reelected',axis=1), \n",
    "                                                    train_model_2['Reelected'], test_size=0.20, \n",
    "                                                    random_state=123)"
   ]
  },
  {
   "cell_type": "code",
   "execution_count": null,
   "metadata": {},
   "outputs": [],
   "source": [
    "logmodel_2 = LogisticRegression()\n",
    "logmodel_2.fit(X_train_model_2,y_train_model_2)\n",
    "predictions_model_2 = logmodel_2.predict(X_test_model_2)\n",
    "print(classification_report(y_test_model_2,predictions_model_2))"
   ]
  },
  {
   "cell_type": "code",
   "execution_count": null,
   "metadata": {},
   "outputs": [],
   "source": [
    "ConfusionMatrixDisplay.from_predictions(y_test_model_2, predictions_model_2)"
   ]
  },
  {
   "cell_type": "markdown",
   "metadata": {},
   "source": [
    "#### Model 3\n",
    "Regressors: Question Asked (Log), Private Number Bills Proposed, Statements Made, Gender, Age, Years in House of Commons, Conservative Member, Liberal Member, NDP Member, Backbencher.\n",
    "- This time, we add political characterstics to the mix. This includes the number of years the MP has served to the House of Commons, and dummy variables that inform whether the MP is a member of the Conservative Party, Liberal Party or the New Democratic Party."
   ]
  },
  {
   "cell_type": "code",
   "execution_count": null,
   "metadata": {},
   "outputs": [],
   "source": [
    "# Prep Model 3 df\n",
    "# use QuestionPeriod or QuestionLog\n",
    "#!!!! Having problem with adding Backbencher, datatype is int, not uint8\n",
    "# !!!!!!\n",
    "train_model_3 = train[['QuestionPeriod','PvtMemBills','Statements','Reelected','AgeOnElectionDay','Gender','YearsInHOC','ConservativeMem','LiberalMem','NDPMem']]\n",
    "train_model_3\n",
    "test_model_3 = test[['QuestionPeriod','PvtMemBills','Statements','Reelected','AgeOnElectionDay','Gender','YearsInHOC','ConservativeMem','LiberalMem','NDPMem']]\n",
    "test_model_3"
   ]
  },
  {
   "cell_type": "code",
   "execution_count": null,
   "metadata": {},
   "outputs": [],
   "source": [
    "X_train_model_3, X_test_model_3, y_train_model_3, y_test_model_3 = train_test_split(train_model_3.drop('Reelected',axis=1), \n",
    "                                                    train_model_3['Reelected'], test_size=0.20, \n",
    "                                                    random_state=123)"
   ]
  },
  {
   "cell_type": "code",
   "execution_count": null,
   "metadata": {},
   "outputs": [],
   "source": [
    "logmodel_3 = LogisticRegression()\n",
    "logmodel_3.fit(X_train_model_3,y_train_model_3)\n",
    "predictions_model_3 = logmodel_3.predict(X_test_model_3)\n",
    "print(classification_report(y_test_model_3,predictions_model_3))"
   ]
  },
  {
   "cell_type": "code",
   "execution_count": null,
   "metadata": {},
   "outputs": [],
   "source": [
    "ConfusionMatrixDisplay.from_predictions(y_test_model_3, predictions_model_3)"
   ]
  },
  {
   "cell_type": "markdown",
   "metadata": {},
   "source": [
    "#### Evaluation\n",
    "Comparing 3 Logistic Regression Models presented above, as we increasing the number of relevent regressors, Model 1 and Model 2 have the same prediction accuracy (70%). However, in Model 3, with more explanatory variables added, the model's prediction accuracy decreased slightly (69%). Model 2 and Model 3 might be overfitting as the number of regressors increased. Added explanatary variables did not provide extra information in prediciton of the re-election results. The time period difference for 2015 and 2019 datasets could also contribute to the accuracy of our prediction model. If the 2019 data set has the same time period as 2015 dataset, the independent numeriacal variables in 2019 would provide more information in terms of predicting re-election results. So the model prediction accuracy might be improved."
   ]
  }
 ],
 "metadata": {
  "kernelspec": {
   "display_name": "Python 3 (ipykernel)",
   "language": "python",
   "name": "python3"
  },
  "language_info": {
   "codemirror_mode": {
    "name": "ipython",
    "version": 3
   },
   "file_extension": ".py",
   "mimetype": "text/x-python",
   "name": "python",
   "nbconvert_exporter": "python",
   "pygments_lexer": "ipython3",
   "version": "3.9.12"
  },
  "vscode": {
   "interpreter": {
    "hash": "177a6c59d031314609db470dae3610e870469540e8a6cfc59cf9ab7a5a6e61bd"
   }
  }
 },
 "nbformat": 4,
 "nbformat_minor": 4
}
