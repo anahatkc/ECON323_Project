{
 "cells": [
  {
   "cell_type": "markdown",
   "metadata": {},
   "source": [
    "### **ECON 323 FINAL PROJECT**\n",
    "\n",
    "### **PARLIAMENTARY PARTICIPATION AND ELECTORAL SUCCESS**"
   ]
  },
  {
   "cell_type": "markdown",
   "metadata": {},
   "source": [
    "##### INTRODUCTION\n",
    "\n",
    "In this project, we aim to create a visualization notebook based on a ECON 490 paper. The paper explores the impact of parliamentary participation on electoral success particularly in the Canadian House of Commons. \n",
    "\n",
    "In this case, parliamentary participation is measured by participation in question period and statements made in the House of Commons and the private member bills introduced by the Member of Parliament. Electoral success is measured by whether or not the Member of Parliament was reelected in the next federal elections.\n",
    "\n",
    "For this project, we will create a visualization notebook that focuses on:\n",
    "- visually summarizing the variables \n",
    "- exploring relationships between the independent and dependent variables "
   ]
  },
  {
   "cell_type": "markdown",
   "metadata": {},
   "source": [
    "##### LOADING PACKAGES\n",
    "\n",
    "We start by loading all the necessary packages:"
   ]
  },
  {
   "cell_type": "code",
   "execution_count": null,
   "metadata": {},
   "outputs": [],
   "source": [
    "import pandas as pd\n",
    "import numpy as np\n",
    "import shapefile as shp\n",
    "import matplotlib.pyplot as plt\n",
    "%matplotlib inline\n",
    "import seaborn as sns\n",
    "import geopandas as gpd\n",
    "import matplotlib.colors as colors\n",
    "import folium \n",
    "from folium import plugins"
   ]
  },
  {
   "cell_type": "markdown",
   "metadata": {},
   "source": [
    "##### INTRODUCING THE DATA \n",
    "\n",
    "##### *Reading the Data*\n",
    "\n",
    "We will first load in the data from csv files and rename columns so that the two dataframes can be concatenated.\n",
    "\n",
    "The data in the csv files has been compiled from several sources:\n",
    "- Elections Canada for reelection and riding information\n",
    "- OurCommons website for information on Private Member's Bills, statements made and Cabinet ministers\n",
    "- SQL Database from the openparliament.com website for gender, party and politician name\n",
    "- Conservative.ca website for information on Shadow Cabinet\n",
    "- Age and years in House of Commons from Parl.ca website \n",
    "\n",
    "The timeframe for this data is from the 2015 federal elections to the 2021 federal elections i.e. the information considers all parliamentary activity from the 42nd and 43rd Parliament."
   ]
  },
  {
   "cell_type": "code",
   "execution_count": null,
   "metadata": {},
   "outputs": [],
   "source": [
    "# reading in csv data \n",
    "results15 = pd.read_csv(\"DATA/2015Results.csv\")\n",
    "results19 = pd.read_csv(\"DATA/2019Results.csv\")"
   ]
  },
  {
   "cell_type": "code",
   "execution_count": null,
   "metadata": {},
   "outputs": [],
   "source": [
    "# renaming columns so that dataframes can be concatenated correctly \n",
    "Results15 = results15.rename(columns = {\"RidingID\":\"Riding ID\", \"ranfor43\":\"RanForNE\", \"reelected43\":\"Reelected\", \"DOB1\":\"DOB\", \"YearsServedAtTimeOfElection\":\"YearsInHOC\"})\n",
    "Results19 = results19.rename(columns = {\"Election\":\"Parliament\", \"ranfor44\":\"RanForNE\", \"reelected44\":\"Reelected\", \"StatementsByMembers\":\"Statements\", \"YearsServedAtElection\":\"YearsInHOC\"})"
   ]
  },
  {
   "cell_type": "code",
   "execution_count": null,
   "metadata": {},
   "outputs": [],
   "source": [
    "# concatenating dataframes\n",
    "Results_Full = pd.concat([Results15, Results19], ignore_index=True)\n",
    "# combining 2015 and 2019 datasets leds to MPs showing up twice -- doesn't matter for analysis because each row is just one observation - person itself doesnt matter"
   ]
  },
  {
   "cell_type": "markdown",
   "metadata": {},
   "source": [
    "##### *Creating Dummy Variables*\n",
    "\n",
    "Next, we create dummy variables for the following categorical variables:\n",
    "- Gender\n",
    "- RanForNE (i.e. whether or not the MP ran for the next federal election)\n",
    "- ReelectionNE (i.e. whether or not the MP was reelected in the next federal election)\n",
    "- Party (i.e. whether or not a MP belong to the Conservative Party, Liberal Party or the New Democratic Party)"
   ]
  },
  {
   "cell_type": "code",
   "execution_count": null,
   "metadata": {},
   "outputs": [],
   "source": [
    "# creating a dataframe with columns that need to be converted to dummy variables\n",
    "Results_Dummy = pd.DataFrame(data=Results_Full, columns=['Gender', 'RanForNE', 'Reelected', 'Party'])\n",
    "\n",
    "# creating dummy variables for each column of the above dataset\n",
    "Dummies = pd.get_dummies(Results_Dummy)"
   ]
  },
  {
   "cell_type": "markdown",
   "metadata": {},
   "source": [
    "Then, we add the previously created dummy variables to the original dataframe. Just to clean up, we rename some columns for clarity and drop unnecessary columns."
   ]
  },
  {
   "cell_type": "code",
   "execution_count": null,
   "metadata": {},
   "outputs": [],
   "source": [
    "# adding newly created dummy variables to the original dataframe\n",
    "Results = pd.concat([Results_Full, Dummies], axis = 1)\n",
    "\n",
    "# removing unnecessary columns\n",
    "Results = Results.drop(columns=['Gender', 'RanForNE', 'Reelected', 'Party', 'DOB', 'Gender_M', 'RanForNE_No', 'Reelected_.', 'Reelected_No', 'Party_Bloc Québécois', 'Party_Green Party of Canada', 'Party_Independent'])\n",
    "\n",
    "# renaming columns for better understanding\n",
    "Results = Results.rename(columns = {\"Gender_F\":\"Gender\", \"RanForNE_Yes\":\"RanForNE\", \"Reelected_Yes\":\"Reelected\", \"Party_Conservative Party of Canada\":\"ConservativeMem\", \"Party_Liberal Party of Canada\":\"LiberalMem\", \"Party_New Democratic Party\":\"NDPMem\"})"
   ]
  },
  {
   "cell_type": "markdown",
   "metadata": {},
   "source": [
    "##### *Manipulating the Data*\n",
    "\n",
    "- create a histogram here? to explain questionlog "
   ]
  },
  {
   "cell_type": "code",
   "execution_count": null,
   "metadata": {},
   "outputs": [],
   "source": [
    "# creating a log of the QuestionPeriod variable\n",
    "Results['QuestionsLog'] = np.log10(Results['QuestionPeriod'])\n",
    "\n",
    "# removing all observations where questions asked is 0\n",
    "Results = Results.loc[Results['QuestionPeriod'] >= 1]"
   ]
  },
  {
   "cell_type": "markdown",
   "metadata": {},
   "source": [
    "Now just summarize the data - where we are at so far basically"
   ]
  },
  {
   "cell_type": "code",
   "execution_count": null,
   "metadata": {},
   "outputs": [],
   "source": [
    "PlottingDF = pd.DataFrame(data=Results, columns=['Name', 'Parliament', 'Riding ID', 'RanForNE', 'Reelected'])\n",
    "\n",
    "def f(row):\n",
    "    if row['RanForNE'] == row['Reelected'] == 1:\n",
    "        val = 'Ran for Re-election and Won'\n",
    "    elif row['RanForNE'] == 0:\n",
    "        val = 'Did Not Run for Re-election'\n",
    "    else:\n",
    "        val = 'Ran for Re-election and Lost'\n",
    "    return val\n",
    "\n",
    "PlottingDF['Outcome'] = PlottingDF.apply(f, axis=1)\n",
    "\n",
    "Plotting19 = PlottingDF.loc[PlottingDF['Parliament'] == 42] # results for 2019 \n",
    "Plotting21 = PlottingDF.loc[PlottingDF['Parliament'] == 43] # results for 2021"
   ]
  },
  {
   "cell_type": "markdown",
   "metadata": {},
   "source": [
    "##### VISUALIZATION: VARIABLES\n",
    "\n",
    "##### *Reelection*"
   ]
  },
  {
   "cell_type": "markdown",
   "metadata": {},
   "source": [
    "##### VISUALIZATION: RELATIONSHIPS\n",
    "\n",
    "##### *Questions and Gender*"
   ]
  },
  {
   "cell_type": "code",
   "execution_count": null,
   "metadata": {},
   "outputs": [],
   "source": [
    "# loading in the shapefile\n",
    "Ridings = gpd.read_file('FED_CA_2021_EN/FED_CA_2021_EN.shp')\n",
    "\n",
    "# renaming the column so that the dataframes can be merged based on Riding ID\n",
    "Ridings = Ridings.rename(columns = {\"FED_NUM\":\"Riding ID\", \"ED_NAMEE\":\"Electoral District\"})"
   ]
  },
  {
   "cell_type": "markdown",
   "metadata": {},
   "source": [
    "https://open.canada.ca/data/en/dataset/47a0f098-7445-41bb-a147-41686b692887 - SOURCE FOR SHAPEFILE"
   ]
  },
  {
   "cell_type": "code",
   "execution_count": null,
   "metadata": {},
   "outputs": [],
   "source": [
    "# merging so that we have an outcome for each electoral riding\n",
    "map2019 = pd.merge(Ridings, Plotting19, on = 'Riding ID')\n",
    "map2021 = pd.merge(Ridings, Plotting21, on = 'Riding ID')"
   ]
  },
  {
   "cell_type": "code",
   "execution_count": null,
   "metadata": {},
   "outputs": [],
   "source": [
    "map2019.explore(\n",
    "     column=\"Outcome\",\n",
    "     tooltip=\"Outcome\",\n",
    "     popup = ['Name', 'Electoral District', 'Outcome'],\n",
    "     cmap=\"Paired\",\n",
    "     style_kwds=dict(color=\"black\") \n",
    "    )"
   ]
  },
  {
   "cell_type": "code",
   "execution_count": null,
   "metadata": {},
   "outputs": [],
   "source": [
    "map2021.explore(\n",
    "     column=\"Outcome\",\n",
    "     tooltip=\"Outcome\",\n",
    "     popup = ['Name', 'Electoral District', 'Outcome'],\n",
    "     cmap=\"Paired\",\n",
    "     style_kwds=dict(color=\"black\") \n",
    "    )"
   ]
  },
  {
   "cell_type": "code",
   "execution_count": null,
   "metadata": {},
   "outputs": [],
   "source": [
    "fig, ax = plt.subplots(1, 1, figsize=(20, 20))\n",
    "map2019.plot(ax=ax, column='Outcome', legend=True, edgecolor='k', cmap = 'Paired')\n",
    "plt.axis('off')\n",
    "plt.show()"
   ]
  }
 ],
 "metadata": {
  "kernelspec": {
   "display_name": "Python 3",
   "language": "python",
   "name": "python3"
  },
  "language_info": {
   "codemirror_mode": {
    "name": "ipython",
    "version": 3
   },
   "file_extension": ".py",
   "mimetype": "text/x-python",
   "name": "python",
   "nbconvert_exporter": "python",
   "pygments_lexer": "ipython3",
   "version": "3.8.9 (default, Apr 13 2022, 08:48:07) \n[Clang 13.1.6 (clang-1316.0.21.2.5)]"
  },
  "vscode": {
   "interpreter": {
    "hash": "31f2aee4e71d21fbe5cf8b01ff0e069b9275f58929596ceb00d14d90e3e16cd6"
   }
  }
 },
 "nbformat": 4,
 "nbformat_minor": 4
}
